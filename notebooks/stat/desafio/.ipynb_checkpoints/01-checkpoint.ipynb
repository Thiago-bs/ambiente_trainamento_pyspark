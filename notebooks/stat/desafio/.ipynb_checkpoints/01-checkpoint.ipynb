{
 "cells": [
  {
   "cell_type": "markdown",
   "metadata": {},
   "source": [
    "### Descrição dos Arquivos\n",
    "\n",
    "dataset_treino.csv - contém o conjunto de dados de treinamento  \n",
    "dataset_teste.csv - contém o conjunto de dados de teste  \n",
    "sampleSubmission.csv - contém o template para você enviar a sua solução  \n",
    "\n",
    "### Descrição dos Campos\n",
    "num_gestacoes - Número de vezes grávida  \n",
    "glicose - Concentração plasmática de glicose em teste oral de tolerância à glicose  \n",
    "pressao_sanguinea - Pressão arterial diastólica em mm Hg  \n",
    "grossura_pele - Espessura da dobra da pele do tríceps em mm  \n",
    "insulina - Insulina em mu U / ml  \n",
    "bmi - Índice de massa corporal medido em peso em kg / (altura em m) ^ 2  \n",
    "indice_historico - Índice de histórico de diabetes (Pedigree Function)  \n",
    "idade - Idade em anos  \n",
    "classe - Classe (0 - não desenvolveu a doença / 1 - desenvolveu a doença)  "
   ]
  },
  {
   "cell_type": "code",
   "execution_count": 1,
   "metadata": {},
   "outputs": [],
   "source": [
    "from pyspark.sql import SparkSession\n",
    "spark = SparkSession.builder.getOrCreate()"
   ]
  },
  {
   "cell_type": "code",
   "execution_count": 25,
   "metadata": {},
   "outputs": [],
   "source": [
    "from pyspark.sql import functions as F, types as T"
   ]
  },
  {
   "cell_type": "code",
   "execution_count": 35,
   "metadata": {},
   "outputs": [],
   "source": [
    "path = '/opt/dna-learn/laranja/stat/desafio/01-Jan-2019/'\n",
    "\n",
    "df = spark.read.option(\"header\", True).csv(f'{path}/dataset_treino.csv')"
   ]
  },
  {
   "cell_type": "markdown",
   "metadata": {},
   "source": [
    "Tratando os dados"
   ]
  },
  {
   "cell_type": "code",
   "execution_count": 36,
   "metadata": {},
   "outputs": [
    {
     "name": "stdout",
     "output_type": "stream",
     "text": [
      "root\n",
      " |-- id: string (nullable = true)\n",
      " |-- num_gestacoes: string (nullable = true)\n",
      " |-- glicose: string (nullable = true)\n",
      " |-- pressao_sanguinea: string (nullable = true)\n",
      " |-- grossura_pele: string (nullable = true)\n",
      " |-- insulina: string (nullable = true)\n",
      " |-- bmi: string (nullable = true)\n",
      " |-- indice_historico: string (nullable = true)\n",
      " |-- idade: string (nullable = true)\n",
      " |-- classe: string (nullable = true)\n",
      "\n"
     ]
    }
   ],
   "source": [
    "df.printSchema()"
   ]
  },
  {
   "cell_type": "code",
   "execution_count": 37,
   "metadata": {},
   "outputs": [],
   "source": [
    "for c in df.columns:\n",
    "    df = df.withColumn(c, F.col(c).cast('double'))"
   ]
  },
  {
   "cell_type": "code",
   "execution_count": 38,
   "metadata": {},
   "outputs": [
    {
     "name": "stdout",
     "output_type": "stream",
     "text": [
      "root\n",
      " |-- id: double (nullable = true)\n",
      " |-- num_gestacoes: double (nullable = true)\n",
      " |-- glicose: double (nullable = true)\n",
      " |-- pressao_sanguinea: double (nullable = true)\n",
      " |-- grossura_pele: double (nullable = true)\n",
      " |-- insulina: double (nullable = true)\n",
      " |-- bmi: double (nullable = true)\n",
      " |-- indice_historico: double (nullable = true)\n",
      " |-- idade: double (nullable = true)\n",
      " |-- classe: double (nullable = true)\n",
      "\n"
     ]
    }
   ],
   "source": [
    "df.printSchema()"
   ]
  },
  {
   "cell_type": "code",
   "execution_count": 51,
   "metadata": {},
   "outputs": [
    {
     "data": {
      "text/html": [
       "<div>\n",
       "<style scoped>\n",
       "    .dataframe tbody tr th:only-of-type {\n",
       "        vertical-align: middle;\n",
       "    }\n",
       "\n",
       "    .dataframe tbody tr th {\n",
       "        vertical-align: top;\n",
       "    }\n",
       "\n",
       "    .dataframe thead th {\n",
       "        text-align: right;\n",
       "    }\n",
       "</style>\n",
       "<table border=\"1\" class=\"dataframe\">\n",
       "  <thead>\n",
       "    <tr style=\"text-align: right;\">\n",
       "      <th></th>\n",
       "      <th>summary</th>\n",
       "      <th>id</th>\n",
       "      <th>num_gestacoes</th>\n",
       "      <th>glicose</th>\n",
       "      <th>pressao_sanguinea</th>\n",
       "      <th>grossura_pele</th>\n",
       "      <th>insulina</th>\n",
       "      <th>bmi</th>\n",
       "      <th>indice_historico</th>\n",
       "      <th>idade</th>\n",
       "      <th>classe</th>\n",
       "    </tr>\n",
       "  </thead>\n",
       "  <tbody>\n",
       "    <tr>\n",
       "      <th>0</th>\n",
       "      <td>count</td>\n",
       "      <td>600</td>\n",
       "      <td>600</td>\n",
       "      <td>600</td>\n",
       "      <td>600</td>\n",
       "      <td>600</td>\n",
       "      <td>600</td>\n",
       "      <td>600</td>\n",
       "      <td>600</td>\n",
       "      <td>600</td>\n",
       "      <td>600</td>\n",
       "    </tr>\n",
       "    <tr>\n",
       "      <th>1</th>\n",
       "      <td>mean</td>\n",
       "      <td>300.5</td>\n",
       "      <td>3.82</td>\n",
       "      <td>120.135</td>\n",
       "      <td>68.68166666666667</td>\n",
       "      <td>20.558333333333334</td>\n",
       "      <td>79.52833333333334</td>\n",
       "      <td>31.905333333333292</td>\n",
       "      <td>0.481063333333333</td>\n",
       "      <td>33.278333333333336</td>\n",
       "      <td>0.3466666666666667</td>\n",
       "    </tr>\n",
       "    <tr>\n",
       "      <th>2</th>\n",
       "      <td>stddev</td>\n",
       "      <td>173.34935823359717</td>\n",
       "      <td>3.3620090980382766</td>\n",
       "      <td>32.65824617773705</td>\n",
       "      <td>19.360226268240897</td>\n",
       "      <td>16.004588153364654</td>\n",
       "      <td>116.49058312649477</td>\n",
       "      <td>8.009637656048545</td>\n",
       "      <td>0.3372840645844289</td>\n",
       "      <td>11.822315444093643</td>\n",
       "      <td>0.4763055747694784</td>\n",
       "    </tr>\n",
       "    <tr>\n",
       "      <th>3</th>\n",
       "      <td>min</td>\n",
       "      <td>1.0</td>\n",
       "      <td>0.0</td>\n",
       "      <td>0.0</td>\n",
       "      <td>0.0</td>\n",
       "      <td>0.0</td>\n",
       "      <td>0.0</td>\n",
       "      <td>0.0</td>\n",
       "      <td>0.078</td>\n",
       "      <td>21.0</td>\n",
       "      <td>0.0</td>\n",
       "    </tr>\n",
       "    <tr>\n",
       "      <th>4</th>\n",
       "      <td>max</td>\n",
       "      <td>600.0</td>\n",
       "      <td>17.0</td>\n",
       "      <td>198.0</td>\n",
       "      <td>122.0</td>\n",
       "      <td>99.0</td>\n",
       "      <td>846.0</td>\n",
       "      <td>67.1</td>\n",
       "      <td>2.42</td>\n",
       "      <td>81.0</td>\n",
       "      <td>1.0</td>\n",
       "    </tr>\n",
       "  </tbody>\n",
       "</table>\n",
       "</div>"
      ],
      "text/plain": [
       "  summary                  id       num_gestacoes            glicose  \\\n",
       "0   count                 600                 600                600   \n",
       "1    mean               300.5                3.82            120.135   \n",
       "2  stddev  173.34935823359717  3.3620090980382766  32.65824617773705   \n",
       "3     min                 1.0                 0.0                0.0   \n",
       "4     max               600.0                17.0              198.0   \n",
       "\n",
       "    pressao_sanguinea       grossura_pele            insulina  \\\n",
       "0                 600                 600                 600   \n",
       "1   68.68166666666667  20.558333333333334   79.52833333333334   \n",
       "2  19.360226268240897  16.004588153364654  116.49058312649477   \n",
       "3                 0.0                 0.0                 0.0   \n",
       "4               122.0                99.0               846.0   \n",
       "\n",
       "                  bmi    indice_historico               idade  \\\n",
       "0                 600                 600                 600   \n",
       "1  31.905333333333292   0.481063333333333  33.278333333333336   \n",
       "2   8.009637656048545  0.3372840645844289  11.822315444093643   \n",
       "3                 0.0               0.078                21.0   \n",
       "4                67.1                2.42                81.0   \n",
       "\n",
       "               classe  \n",
       "0                 600  \n",
       "1  0.3466666666666667  \n",
       "2  0.4763055747694784  \n",
       "3                 0.0  \n",
       "4                 1.0  "
      ]
     },
     "execution_count": 51,
     "metadata": {},
     "output_type": "execute_result"
    }
   ],
   "source": [
    "df.describe().toPandas()"
   ]
  },
  {
   "cell_type": "markdown",
   "metadata": {},
   "source": [
    "### Gerando vetor de features"
   ]
  },
  {
   "cell_type": "code",
   "execution_count": 43,
   "metadata": {},
   "outputs": [
    {
     "name": "stdout",
     "output_type": "stream",
     "text": [
      "Assembled columns num_gestacoes,glicose,pressao_sanguinea,grossura_pele,insulina,bmi,indice_historico,idade to vector column 'features'\n",
      "+-------------------------------------------+------+\n",
      "|features                                   |classe|\n",
      "+-------------------------------------------+------+\n",
      "|[6.0,148.0,72.0,35.0,0.0,33.6,0.627,50.0]  |1.0   |\n",
      "|[1.0,85.0,66.0,29.0,0.0,26.6,0.351,31.0]   |0.0   |\n",
      "|[8.0,183.0,64.0,0.0,0.0,23.3,0.672,32.0]   |1.0   |\n",
      "|[1.0,89.0,66.0,23.0,94.0,28.1,0.167,21.0]  |0.0   |\n",
      "|[0.0,137.0,40.0,35.0,168.0,43.1,2.288,33.0]|1.0   |\n",
      "|[5.0,116.0,74.0,0.0,0.0,25.6,0.201,30.0]   |0.0   |\n",
      "|[3.0,78.0,50.0,32.0,88.0,31.0,0.248,26.0]  |1.0   |\n",
      "|[10.0,115.0,0.0,0.0,0.0,35.3,0.134,29.0]   |0.0   |\n",
      "|[2.0,197.0,70.0,45.0,543.0,30.5,0.158,53.0]|1.0   |\n",
      "|[8.0,125.0,96.0,0.0,0.0,0.0,0.232,54.0]    |1.0   |\n",
      "|[4.0,110.0,92.0,0.0,0.0,37.6,0.191,30.0]   |0.0   |\n",
      "|[10.0,168.0,74.0,0.0,0.0,38.0,0.537,34.0]  |1.0   |\n",
      "|[10.0,139.0,80.0,0.0,0.0,27.1,1.441,57.0]  |0.0   |\n",
      "|[1.0,189.0,60.0,23.0,846.0,30.1,0.398,59.0]|1.0   |\n",
      "|[5.0,166.0,72.0,19.0,175.0,25.8,0.587,51.0]|1.0   |\n",
      "|[7.0,100.0,0.0,0.0,0.0,30.0,0.484,32.0]    |1.0   |\n",
      "|[0.0,118.0,84.0,47.0,230.0,45.8,0.551,31.0]|1.0   |\n",
      "|[7.0,107.0,74.0,0.0,0.0,29.6,0.254,31.0]   |1.0   |\n",
      "|[1.0,103.0,30.0,38.0,83.0,43.3,0.183,33.0] |0.0   |\n",
      "|[1.0,115.0,70.0,30.0,96.0,34.6,0.529,32.0] |1.0   |\n",
      "+-------------------------------------------+------+\n",
      "only showing top 20 rows\n",
      "\n"
     ]
    }
   ],
   "source": [
    "from pyspark.ml.linalg import Vectors\n",
    "from pyspark.ml.feature import VectorAssembler\n",
    "\n",
    "feature_cols = df.columns\n",
    "feature_cols.remove('id')\n",
    "feature_cols.remove('classe')\n",
    "\n",
    "assembler = VectorAssembler(inputCols=feature_cols, outputCol=\"features\")\n",
    "\n",
    "df = assembler.transform(df)\n",
    "print(f\"Assembled columns {str.join(',', [f'{c}' for c in feature_cols])} to vector column 'features'\")\n",
    "df.select(\"features\", \"classe\").show(truncate=False)"
   ]
  },
  {
   "cell_type": "markdown",
   "metadata": {},
   "source": [
    "### Regressor baseline"
   ]
  },
  {
   "cell_type": "code",
   "execution_count": null,
   "metadata": {},
   "outputs": [],
   "source": []
  },
  {
   "cell_type": "markdown",
   "metadata": {},
   "source": [
    "### Desenhos bonitinhos"
   ]
  },
  {
   "cell_type": "code",
   "execution_count": null,
   "metadata": {},
   "outputs": [],
   "source": []
  },
  {
   "cell_type": "markdown",
   "metadata": {},
   "source": [
    "### PCA"
   ]
  },
  {
   "cell_type": "code",
   "execution_count": 45,
   "metadata": {},
   "outputs": [],
   "source": [
    "from pyspark.ml.feature import PCA as PCAml\n",
    "\n",
    "pca_model = PCAml(k=2, inputCol=\"features\", outputCol=\"pca\").fit(df)\n",
    "pca_transformed = model.transform(df)"
   ]
  },
  {
   "cell_type": "code",
   "execution_count": 48,
   "metadata": {},
   "outputs": [
    {
     "data": {
      "text/html": [
       "<div>\n",
       "<style scoped>\n",
       "    .dataframe tbody tr th:only-of-type {\n",
       "        vertical-align: middle;\n",
       "    }\n",
       "\n",
       "    .dataframe tbody tr th {\n",
       "        vertical-align: top;\n",
       "    }\n",
       "\n",
       "    .dataframe thead th {\n",
       "        text-align: right;\n",
       "    }\n",
       "</style>\n",
       "<table border=\"1\" class=\"dataframe\">\n",
       "  <thead>\n",
       "    <tr style=\"text-align: right;\">\n",
       "      <th></th>\n",
       "      <th>features</th>\n",
       "      <th>pca</th>\n",
       "    </tr>\n",
       "  </thead>\n",
       "  <tbody>\n",
       "    <tr>\n",
       "      <th>0</th>\n",
       "      <td>[6.0, 148.0, 72.0, 35.0, 0.0, 33.6, 0.627, 50.0]</td>\n",
       "      <td>[18.691951580272384, -159.494534794687]</td>\n",
       "    </tr>\n",
       "    <tr>\n",
       "      <th>1</th>\n",
       "      <td>[1.0, 85.0, 66.0, 29.0, 0.0, 26.6, 0.351, 31.0]</td>\n",
       "      <td>[11.772960890077272, -94.69232564244982]</td>\n",
       "    </tr>\n",
       "    <tr>\n",
       "      <th>2</th>\n",
       "      <td>[8.0, 183.0, 64.0, 0.0, 0.0, 23.3, 0.672, 32.0]</td>\n",
       "      <td>[19.905798684962782, -191.90003868133064]</td>\n",
       "    </tr>\n",
       "    <tr>\n",
       "      <th>3</th>\n",
       "      <td>[1.0, 89.0, 66.0, 23.0, 94.0, 28.1, 0.167, 21.0]</td>\n",
       "      <td>[105.17616073385764, -88.4121542680465]</td>\n",
       "    </tr>\n",
       "    <tr>\n",
       "      <th>4</th>\n",
       "      <td>[0.0, 137.0, 40.0, 35.0, 168.0, 43.1, 2.288, 3...</td>\n",
       "      <td>[183.98268638511075, -126.24532529556323]</td>\n",
       "    </tr>\n",
       "    <tr>\n",
       "      <th>5</th>\n",
       "      <td>[5.0, 116.0, 74.0, 0.0, 0.0, 25.6, 0.201, 30.0]</td>\n",
       "      <td>[13.31579814207023, -127.61510743696284]</td>\n",
       "    </tr>\n",
       "    <tr>\n",
       "      <th>6</th>\n",
       "      <td>[3.0, 78.0, 50.0, 32.0, 88.0, 31.0, 0.248, 26.0]</td>\n",
       "      <td>[98.40113074623223, -76.60108478558459]</td>\n",
       "    </tr>\n",
       "    <tr>\n",
       "      <th>7</th>\n",
       "      <td>[10.0, 115.0, 0.0, 0.0, 0.0, 35.3, 0.134, 29.0]</td>\n",
       "      <td>[12.095084337333937, -117.88455816397669]</td>\n",
       "    </tr>\n",
       "    <tr>\n",
       "      <th>8</th>\n",
       "      <td>[2.0, 197.0, 70.0, 45.0, 543.0, 30.5, 0.158, 5...</td>\n",
       "      <td>[563.303120044588, -153.13367100391773]</td>\n",
       "    </tr>\n",
       "    <tr>\n",
       "      <th>9</th>\n",
       "      <td>[8.0, 125.0, 96.0, 0.0, 0.0, 0.0, 0.232, 54.0]</td>\n",
       "      <td>[14.245998300882038, -141.31154482228538]</td>\n",
       "    </tr>\n",
       "  </tbody>\n",
       "</table>\n",
       "</div>"
      ],
      "text/plain": [
       "                                            features  \\\n",
       "0   [6.0, 148.0, 72.0, 35.0, 0.0, 33.6, 0.627, 50.0]   \n",
       "1    [1.0, 85.0, 66.0, 29.0, 0.0, 26.6, 0.351, 31.0]   \n",
       "2    [8.0, 183.0, 64.0, 0.0, 0.0, 23.3, 0.672, 32.0]   \n",
       "3   [1.0, 89.0, 66.0, 23.0, 94.0, 28.1, 0.167, 21.0]   \n",
       "4  [0.0, 137.0, 40.0, 35.0, 168.0, 43.1, 2.288, 3...   \n",
       "5    [5.0, 116.0, 74.0, 0.0, 0.0, 25.6, 0.201, 30.0]   \n",
       "6   [3.0, 78.0, 50.0, 32.0, 88.0, 31.0, 0.248, 26.0]   \n",
       "7    [10.0, 115.0, 0.0, 0.0, 0.0, 35.3, 0.134, 29.0]   \n",
       "8  [2.0, 197.0, 70.0, 45.0, 543.0, 30.5, 0.158, 5...   \n",
       "9     [8.0, 125.0, 96.0, 0.0, 0.0, 0.0, 0.232, 54.0]   \n",
       "\n",
       "                                         pca  \n",
       "0    [18.691951580272384, -159.494534794687]  \n",
       "1   [11.772960890077272, -94.69232564244982]  \n",
       "2  [19.905798684962782, -191.90003868133064]  \n",
       "3    [105.17616073385764, -88.4121542680465]  \n",
       "4  [183.98268638511075, -126.24532529556323]  \n",
       "5   [13.31579814207023, -127.61510743696284]  \n",
       "6    [98.40113074623223, -76.60108478558459]  \n",
       "7  [12.095084337333937, -117.88455816397669]  \n",
       "8    [563.303120044588, -153.13367100391773]  \n",
       "9  [14.245998300882038, -141.31154482228538]  "
      ]
     },
     "execution_count": 48,
     "metadata": {},
     "output_type": "execute_result"
    }
   ],
   "source": [
    "pca_transformed.select('features','pca').limit(10).toPandas()"
   ]
  },
  {
   "cell_type": "code",
   "execution_count": null,
   "metadata": {},
   "outputs": [],
   "source": []
  }
 ],
 "metadata": {
  "kernelspec": {
   "display_name": "Python 3",
   "language": "python",
   "name": "python3"
  },
  "language_info": {
   "codemirror_mode": {
    "name": "ipython",
    "version": 3
   },
   "file_extension": ".py",
   "mimetype": "text/x-python",
   "name": "python",
   "nbconvert_exporter": "python",
   "pygments_lexer": "ipython3",
   "version": "3.7.3"
  }
 },
 "nbformat": 4,
 "nbformat_minor": 2
}
