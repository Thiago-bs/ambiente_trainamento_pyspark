{
 "cells": [
  {
   "cell_type": "code",
   "execution_count": 17,
   "metadata": {},
   "outputs": [],
   "source": [
    "from pyspark.sql import SparkSession\n",
    "spark = SparkSession.builder.getOrCreate()\n",
    "from pyspark.sql import functions as F, types as T\n",
    "import datetime\n",
    "from pyspark.sql.types import LongType"
   ]
  },
  {
   "cell_type": "code",
   "execution_count": 18,
   "metadata": {},
   "outputs": [],
   "source": [
    "test = spark.createDataFrame([(2020,4, 24) ],['ano', 'mes', 'dia'])"
   ]
  },
  {
   "cell_type": "code",
   "execution_count": 19,
   "metadata": {},
   "outputs": [],
   "source": [
    "test = test.withColumn(\"partition_id\", (F.col(\"ano\")*pow(10,4)+F.col(\"mes\")*pow(10,2)+F.col(\"dia\")).cast(LongType()) )\n",
    "test = test.withColumn(\"partition_id2\", (F.col(\"ano\")*10000+F.col(\"mes\")*100+F.col(\"dia\")).cast(LongType()) )\n",
    "# 20200424\n",
    "# 20200424"
   ]
  },
  {
   "cell_type": "code",
   "execution_count": 20,
   "metadata": {},
   "outputs": [
    {
     "name": "stdout",
     "output_type": "stream",
     "text": [
      "+----+---+---+------------+-------------+\n",
      "| ano|mes|dia|partition_id|partition_id2|\n",
      "+----+---+---+------------+-------------+\n",
      "|2020|  4| 24|    20200424|     20200424|\n",
      "+----+---+---+------------+-------------+\n",
      "\n"
     ]
    }
   ],
   "source": [
    "test.show()"
   ]
  },
  {
   "cell_type": "code",
   "execution_count": 14,
   "metadata": {},
   "outputs": [
    {
     "name": "stdout",
     "output_type": "stream",
     "text": [
      "root\n",
      " |-- ano: long (nullable = true)\n",
      " |-- mes: long (nullable = true)\n",
      " |-- dia: long (nullable = true)\n",
      " |-- partition_id: integer (nullable = true)\n",
      "\n"
     ]
    }
   ],
   "source": [
    "test.printSchema()"
   ]
  },
  {
   "cell_type": "code",
   "execution_count": null,
   "metadata": {},
   "outputs": [],
   "source": []
  }
 ],
 "metadata": {
  "kernelspec": {
   "display_name": "Python 3",
   "language": "python",
   "name": "python3"
  },
  "language_info": {
   "codemirror_mode": {
    "name": "ipython",
    "version": 3
   },
   "file_extension": ".py",
   "mimetype": "text/x-python",
   "name": "python",
   "nbconvert_exporter": "python",
   "pygments_lexer": "ipython3",
   "version": "3.7.3"
  }
 },
 "nbformat": 4,
 "nbformat_minor": 2
}
