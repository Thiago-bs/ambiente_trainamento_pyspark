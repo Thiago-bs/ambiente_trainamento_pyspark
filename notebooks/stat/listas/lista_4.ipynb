{
 "cells": [
  {
   "cell_type": "code",
   "execution_count": 5,
   "metadata": {},
   "outputs": [],
   "source": [
    "from pyspark.sql import SparkSession\n",
    "spark = SparkSession.builder.getOrCreate()\n",
    "from pyspark.sql import functions as F\n",
    "from pyspark.sql.window import Window"
   ]
  },
  {
   "cell_type": "code",
   "execution_count": 2,
   "metadata": {},
   "outputs": [],
   "source": [
    "df = (spark.read\n",
    "     .option('delimiter', ';')\n",
    "     .csv('/datasets/dataset-3.csv', header=True))"
   ]
  },
  {
   "cell_type": "code",
   "execution_count": 3,
   "metadata": {},
   "outputs": [
    {
     "name": "stdout",
     "output_type": "stream",
     "text": [
      "root\n",
      " |-- N: string (nullable = true)\n",
      " |-- estado_civil: string (nullable = true)\n",
      " |-- grau_instrucao: string (nullable = true)\n",
      " |-- n_filhos: string (nullable = true)\n",
      " |-- salario: string (nullable = true)\n",
      " |-- idade_anos: string (nullable = true)\n",
      " |-- idade_meses: string (nullable = true)\n",
      " |-- reg_procedencia: string (nullable = true)\n",
      "\n"
     ]
    }
   ],
   "source": [
    "df.printSchema()"
   ]
  },
  {
   "cell_type": "markdown",
   "metadata": {},
   "source": [
    "1- Qual o total de pessoas com ensino médio na capital?  "
   ]
  },
  {
   "cell_type": "code",
   "execution_count": 9,
   "metadata": {},
   "outputs": [
    {
     "name": "stdout",
     "output_type": "stream",
     "text": [
      "+------------------+-----+\n",
      "|    grau_instrucao|count|\n",
      "+------------------+-----+\n",
      "|          superior|    6|\n",
      "|      ensino médio|   18|\n",
      "|ensino fundamental|   12|\n",
      "+------------------+-----+\n",
      "\n"
     ]
    }
   ],
   "source": [
    "df.groupBy('grau_instrucao').count().show()"
   ]
  },
  {
   "cell_type": "code",
   "execution_count": 12,
   "metadata": {},
   "outputs": [
    {
     "data": {
      "text/plain": [
       "24"
      ]
     },
     "execution_count": 12,
     "metadata": {},
     "output_type": "execute_result"
    }
   ],
   "source": [
    "df.filter(df.grau_instrucao != 'ensino fundamental').count()"
   ]
  },
  {
   "cell_type": "markdown",
   "metadata": {},
   "source": [
    "2- Qual o percentual de pessoas do interior com ensino superior?  "
   ]
  },
  {
   "cell_type": "code",
   "execution_count": null,
   "metadata": {},
   "outputs": [],
   "source": []
  },
  {
   "cell_type": "markdown",
   "metadata": {},
   "source": [
    "3- Crie um Stacked Bar Chart para representar a relação entre o grau de\n",
    "instrução e a  \n",
    "região de procedência.  \n",
    "4- Qual a relação entre grau de instrução e estado civil?  \n",
    "5- Como interpretar o resultado do Teste do Qui-quadrado no item\n",
    "anterior? As variáveis  \n",
    "são dependentes ou independentes?  \n",
    "6- Quais são as técnicas usadas para analisar a relação entre: 1. 2\n",
    "Variáveis Categóricas  \n",
    "2\\. 2 Variáveis Numéricas  \n",
    "3\\. Variável Categórica (Dependente) e Numérica (Independente)  \n",
    "4\\. Variável Categórica (Independente) e Numérica (Dependente)  \n",
    "7- Explique o que é Correlação e o que é Causalidade. Exemplifique sua\n",
    "resposta.  \n",
    "8- Calcule as medidas de posição da variável salário.  \n",
    "9- Calcule as medids de dispersão da variável salário.  \n",
    "10- \\[Opcional\\] Apresente um relatório final com o resultado da sua\n",
    "análise, explicando em  \n",
    "detalhes as relações que você encontrou, comprovando as relações com\n",
    "coeficientes e  \n",
    "apresentando um resumo estatístico."
   ]
  },
  {
   "cell_type": "code",
   "execution_count": null,
   "metadata": {},
   "outputs": [],
   "source": []
  }
 ],
 "metadata": {
  "kernelspec": {
   "display_name": "Python 3",
   "language": "python",
   "name": "python3"
  },
  "language_info": {
   "codemirror_mode": {
    "name": "ipython",
    "version": 3
   },
   "file_extension": ".py",
   "mimetype": "text/x-python",
   "name": "python",
   "nbconvert_exporter": "python",
   "pygments_lexer": "ipython3",
   "version": "3.7.3"
  }
 },
 "nbformat": 4,
 "nbformat_minor": 2
}
